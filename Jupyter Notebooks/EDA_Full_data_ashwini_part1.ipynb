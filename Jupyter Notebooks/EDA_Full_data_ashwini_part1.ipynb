{
 "cells": [
  {
   "cell_type": "markdown",
   "metadata": {},
   "source": [
    "        Name: Ashwini Giri          USC ID: 5413882039                 Team: Vectors"
   ]
  },
  {
   "cell_type": "markdown",
   "metadata": {},
   "source": [
    "# Full data Analysis using spark"
   ]
  },
  {
   "cell_type": "code",
   "execution_count": 1,
   "metadata": {},
   "outputs": [],
   "source": [
    "from pyspark import SparkContext\n",
    "sc = SparkContext.getOrCreate()"
   ]
  },
  {
   "cell_type": "code",
   "execution_count": 2,
   "metadata": {},
   "outputs": [],
   "source": [
    "from pyspark import SQLContext\n",
    "sqlContext = SQLContext(sc)"
   ]
  },
  {
   "cell_type": "code",
   "execution_count": 3,
   "metadata": {},
   "outputs": [],
   "source": [
    "df = sqlContext.read.csv(\"data.csv\",header=True)"
   ]
  },
  {
   "cell_type": "code",
   "execution_count": 4,
   "metadata": {},
   "outputs": [
    {
     "name": "stdout",
     "output_type": "stream",
     "text": [
      "+--------+------+-----------------+----------+------------+--------------------+\n",
      "|Building| Level|    ClientMacAddr|       lat|         lng|           localtime|\n",
      "+--------+------+-----------------+----------+------------+--------------------+\n",
      "| Gallery|Level5|38:ff:36:4c:1a:18|1.29086614|103.85172392|2018-07-31 18:20:...|\n",
      "| Gallery|Level5|38:ff:36:4c:ad:23|1.29086614|103.85172392|2018-07-31 13:42:...|\n",
      "| Gallery|Level5|38:ff:36:4c:ad:23|1.29086614|103.85172392|2018-07-31 14:58:...|\n",
      "| Gallery|Level5|38:ff:36:4c:ae:53|1.29086614|103.85172392|2018-07-31 17:44:...|\n",
      "| Gallery|Level5|38:ff:36:4c:b5:83|1.29086614|103.85172392|2018-07-31 13:26:...|\n",
      "| Gallery|Level5|38:ff:36:4c:b5:83|1.29086614|103.85172392|2018-07-31 15:35:...|\n",
      "| Gallery|Level5|38:ff:36:cc:1a:18|1.29086614|103.85172392|2018-07-31 17:57:...|\n",
      "| Gallery|Level5|38:ff:36:cc:1a:18|1.29086614|103.85172392|2018-07-31 18:32:...|\n",
      "| Gallery|Level5|48:3b:38:24:63:c0|1.29086614|103.85172392|2018-07-31 15:26:...|\n",
      "| Gallery|Level5|4c:74:bf:69:d8:7a|1.29086614|103.85172392|2018-07-31 16:20:...|\n",
      "| Gallery|Level5|4c:74:bf:69:d8:7a|1.29086614|103.85172392|2018-07-31 16:14:...|\n",
      "| Gallery|Level5|58:48:22:ee:94:7d|1.29086614|103.85172392|2018-07-31 17:23:...|\n",
      "| Gallery|Level5|58:48:22:ee:94:7d|1.29086614|103.85172392|2018-07-31 17:08:...|\n",
      "| Gallery|Level5|58:48:22:ee:94:7d|1.29086614|103.85172392|2018-07-31 18:44:...|\n",
      "| Gallery|Level5|68:48:98:84:09:24|1.29086614|103.85172392|2018-07-31 19:10:...|\n",
      "| Gallery|Level5|68:48:98:84:09:24|1.29086614|103.85172392|2018-07-31 19:31:...|\n",
      "| Gallery|Level5|68:48:98:84:09:24|1.29086614|103.85172392|2018-07-31 19:31:...|\n",
      "| Gallery|Level5|6c:72:e7:7f:84:50|1.29086614|103.85172392|2018-07-31 15:35:...|\n",
      "| Gallery|Level5|6c:ab:31:82:30:68|1.29086614|103.85172392|2018-07-31 15:35:...|\n",
      "| Gallery|Level5|70:e7:2c:4c:7c:c8|1.29086614|103.85172392|2018-07-31 15:35:...|\n",
      "+--------+------+-----------------+----------+------------+--------------------+\n",
      "only showing top 20 rows\n",
      "\n"
     ]
    }
   ],
   "source": [
    "df.show()"
   ]
  },
  {
   "cell_type": "code",
   "execution_count": 5,
   "metadata": {},
   "outputs": [
    {
     "name": "stdout",
     "output_type": "stream",
     "text": [
      "root\n",
      " |-- Building: string (nullable = true)\n",
      " |-- Level: string (nullable = true)\n",
      " |-- ClientMacAddr: string (nullable = true)\n",
      " |-- lat: string (nullable = true)\n",
      " |-- lng: string (nullable = true)\n",
      " |-- localtime: string (nullable = true)\n",
      "\n"
     ]
    }
   ],
   "source": [
    "df.printSchema()"
   ]
  },
  {
   "cell_type": "code",
   "execution_count": 9,
   "metadata": {},
   "outputs": [
    {
     "data": {
      "text/plain": [
       "['Building', 'Level', 'ClientMacAddr', 'lat', 'lng', 'localtime']"
      ]
     },
     "execution_count": 9,
     "metadata": {},
     "output_type": "execute_result"
    }
   ],
   "source": [
    "df.columns"
   ]
  },
  {
   "cell_type": "code",
   "execution_count": 11,
   "metadata": {},
   "outputs": [],
   "source": [
    "shape = (df.count(),len(df.columns))"
   ]
  },
  {
   "cell_type": "code",
   "execution_count": 12,
   "metadata": {},
   "outputs": [
    {
     "data": {
      "text/plain": [
       "(260068750, 6)"
      ]
     },
     "execution_count": 12,
     "metadata": {},
     "output_type": "execute_result"
    }
   ],
   "source": [
    "shape"
   ]
  },
  {
   "cell_type": "code",
   "execution_count": 13,
   "metadata": {},
   "outputs": [
    {
     "name": "stdout",
     "output_type": "stream",
     "text": [
      "+-------+---------+---------+-----------------+--------------------+--------------------+--------------------+\n",
      "|summary| Building|    Level|    ClientMacAddr|                 lat|                 lng|           localtime|\n",
      "+-------+---------+---------+-----------------+--------------------+--------------------+--------------------+\n",
      "|  count|260068750|260068750|        260068750|           260068750|           260068750|           260068750|\n",
      "|   mean|     null|     null|             null|  1.2904670285439896|   103.8516847241262|                null|\n",
      "| stddev|     null|     null|             null|3.930378247417363E-4|2.911652326835760...|                null|\n",
      "|    min|  Gallery|  Level 1|00:00:00:00:00:00|          1.28961633|          103.850815|2018-04-01 08:01:...|\n",
      "|    max|  Gallery|   Level5|fe:ff:ff:f2:56:83|          1.29113894|        103.85218281|2018-07-31 23:58:...|\n",
      "+-------+---------+---------+-----------------+--------------------+--------------------+--------------------+\n",
      "\n"
     ]
    }
   ],
   "source": [
    "df.describe().show()"
   ]
  },
  {
   "cell_type": "code",
   "execution_count": 14,
   "metadata": {},
   "outputs": [
    {
     "name": "stdout",
     "output_type": "stream",
     "text": [
      "+-------+---------+\n",
      "|summary| Building|\n",
      "+-------+---------+\n",
      "|  count|260068750|\n",
      "|   mean|     null|\n",
      "| stddev|     null|\n",
      "|    min|  Gallery|\n",
      "|    max|  Gallery|\n",
      "+-------+---------+\n",
      "\n"
     ]
    }
   ],
   "source": [
    "df.describe('Building').show()"
   ]
  },
  {
   "cell_type": "code",
   "execution_count": 5,
   "metadata": {},
   "outputs": [
    {
     "name": "stdout",
     "output_type": "stream",
     "text": [
      "+-------+--------------------+\n",
      "|summary|           localtime|\n",
      "+-------+--------------------+\n",
      "|  count|           260068750|\n",
      "|   mean|                null|\n",
      "| stddev|                null|\n",
      "|    min|2018-04-01 08:01:...|\n",
      "|    max|2018-07-31 23:58:...|\n",
      "+-------+--------------------+\n",
      "\n"
     ]
    }
   ],
   "source": [
    "df.describe('localtime').show()"
   ]
  },
  {
   "cell_type": "code",
   "execution_count": 15,
   "metadata": {
    "scrolled": true
   },
   "outputs": [
    {
     "name": "stdout",
     "output_type": "stream",
     "text": [
      "+--------+---------+\n",
      "|   Level|    count|\n",
      "+--------+---------+\n",
      "|  Level5|  5599660|\n",
      "| Level 1|176288644|\n",
      "|Level B1| 78180446|\n",
      "+--------+---------+\n",
      "\n"
     ]
    }
   ],
   "source": [
    "df.groupby('Level').count().show()"
   ]
  },
  {
   "cell_type": "code",
   "execution_count": 4,
   "metadata": {},
   "outputs": [
    {
     "data": {
      "text/plain": [
       "[Row(Building='Gallery', Level='Level5', ClientMacAddr='38:ff:36:4c:1a:18', lat='1.29086614', lng='103.85172392', localtime='2018-07-31 18:20:29.538 UTC'),\n",
       " Row(Building='Gallery', Level='Level5', ClientMacAddr='38:ff:36:4c:ad:23', lat='1.29086614', lng='103.85172392', localtime='2018-07-31 13:42:08.382 UTC'),\n",
       " Row(Building='Gallery', Level='Level5', ClientMacAddr='38:ff:36:4c:ad:23', lat='1.29086614', lng='103.85172392', localtime='2018-07-31 14:58:17.652 UTC'),\n",
       " Row(Building='Gallery', Level='Level5', ClientMacAddr='38:ff:36:4c:ae:53', lat='1.29086614', lng='103.85172392', localtime='2018-07-31 17:44:47.816 UTC'),\n",
       " Row(Building='Gallery', Level='Level5', ClientMacAddr='38:ff:36:4c:b5:83', lat='1.29086614', lng='103.85172392', localtime='2018-07-31 13:26:17.971 UTC')]"
      ]
     },
     "execution_count": 4,
     "metadata": {},
     "output_type": "execute_result"
    }
   ],
   "source": [
    "df.head(5)"
   ]
  },
  {
   "cell_type": "code",
   "execution_count": 6,
   "metadata": {},
   "outputs": [],
   "source": [
    "import pandas as pd\n",
    "import seaborn as sns\n",
    "import numpy as np\n",
    "import matplotlib.pyplot as plt\n",
    "% matplotlib inline"
   ]
  },
  {
   "cell_type": "code",
   "execution_count": 8,
   "metadata": {},
   "outputs": [],
   "source": [
    "level = pd.DataFrame({'level':['Level B1','Level 1','Level 5'],'count':[5599660,176288644,78180446]})"
   ]
  },
  {
   "cell_type": "code",
   "execution_count": 9,
   "metadata": {},
   "outputs": [
    {
     "data": {
      "text/html": [
       "<div>\n",
       "<style scoped>\n",
       "    .dataframe tbody tr th:only-of-type {\n",
       "        vertical-align: middle;\n",
       "    }\n",
       "\n",
       "    .dataframe tbody tr th {\n",
       "        vertical-align: top;\n",
       "    }\n",
       "\n",
       "    .dataframe thead th {\n",
       "        text-align: right;\n",
       "    }\n",
       "</style>\n",
       "<table border=\"1\" class=\"dataframe\">\n",
       "  <thead>\n",
       "    <tr style=\"text-align: right;\">\n",
       "      <th></th>\n",
       "      <th>level</th>\n",
       "      <th>count</th>\n",
       "    </tr>\n",
       "  </thead>\n",
       "  <tbody>\n",
       "    <tr>\n",
       "      <th>0</th>\n",
       "      <td>Level B1</td>\n",
       "      <td>5599660</td>\n",
       "    </tr>\n",
       "    <tr>\n",
       "      <th>1</th>\n",
       "      <td>Level 1</td>\n",
       "      <td>176288644</td>\n",
       "    </tr>\n",
       "    <tr>\n",
       "      <th>2</th>\n",
       "      <td>Level 5</td>\n",
       "      <td>78180446</td>\n",
       "    </tr>\n",
       "  </tbody>\n",
       "</table>\n",
       "</div>"
      ],
      "text/plain": [
       "      level      count\n",
       "0  Level B1    5599660\n",
       "1   Level 1  176288644\n",
       "2   Level 5   78180446"
      ]
     },
     "execution_count": 9,
     "metadata": {},
     "output_type": "execute_result"
    }
   ],
   "source": [
    "level"
   ]
  },
  {
   "cell_type": "code",
   "execution_count": 17,
   "metadata": {},
   "outputs": [
    {
     "data": {
      "text/plain": [
       "Text(0,0.5,'Count of Mac Id')"
      ]
     },
     "execution_count": 17,
     "metadata": {},
     "output_type": "execute_result"
    },
    {
     "data": {
      "image/png": "[encoded data removed]",
      "text/plain": [
       "<Figure size 432x288 with 1 Axes>"
      ]
     },
     "metadata": {},
     "output_type": "display_data"
    }
   ],
   "source": [
    "plt.figure(figsize=(6,4))\n",
    "sns.barplot('level', 'count', data=level, palette='tab10')\n",
    "plt.title('Level Wise Analysis', fontsize=16)\n",
    "plt.xlabel('Level', fontsize=14)\n",
    "plt.ylabel('Count of Mac Id', fontsize=14)"
   ]
  },
  {
   "cell_type": "markdown",
   "metadata": {},
   "source": [
    "#### Droping column which are not required for our model"
   ]
  },
  {
   "cell_type": "markdown",
   "metadata": {},
   "source": [
    "We do not neet column Building"
   ]
  },
  {
   "cell_type": "code",
   "execution_count": 4,
   "metadata": {},
   "outputs": [
    {
     "name": "stdout",
     "output_type": "stream",
     "text": [
      "+--------+---------+\n",
      "|Building|    count|\n",
      "+--------+---------+\n",
      "| Gallery|260068750|\n",
      "+--------+---------+\n",
      "\n"
     ]
    }
   ],
   "source": [
    "df.groupBy('Building').count().show()"
   ]
  },
  {
   "cell_type": "code",
   "execution_count": 9,
   "metadata": {},
   "outputs": [],
   "source": [
    "df = df.drop('Building')"
   ]
  },
  {
   "cell_type": "code",
   "execution_count": 6,
   "metadata": {},
   "outputs": [
    {
     "data": {
      "text/plain": [
       "['Level', 'ClientMacAddr', 'lat', 'lng', 'localtime']"
      ]
     },
     "execution_count": 6,
     "metadata": {},
     "output_type": "execute_result"
    }
   ],
   "source": [
    "df.columns"
   ]
  },
  {
   "cell_type": "code",
   "execution_count": 7,
   "metadata": {},
   "outputs": [
    {
     "data": {
      "text/plain": [
       "pyspark.sql.dataframe.DataFrame"
      ]
     },
     "execution_count": 7,
     "metadata": {},
     "output_type": "execute_result"
    }
   ],
   "source": [
    "type(df)"
   ]
  },
  {
   "cell_type": "markdown",
   "metadata": {},
   "source": [
    "### Analysis based on MAC address "
   ]
  },
  {
   "cell_type": "code",
   "execution_count": 8,
   "metadata": {},
   "outputs": [
    {
     "data": {
      "text/plain": [
       "[Row(Level='Level5', ClientMacAddr='38:ff:36:4c:1a:18', lat='1.29086614', lng='103.85172392', localtime='2018-07-31 18:20:29.538 UTC'),\n",
       " Row(Level='Level5', ClientMacAddr='38:ff:36:4c:ad:23', lat='1.29086614', lng='103.85172392', localtime='2018-07-31 13:42:08.382 UTC')]"
      ]
     },
     "execution_count": 8,
     "metadata": {},
     "output_type": "execute_result"
    }
   ],
   "source": [
    "df.head(2)"
   ]
  },
  {
   "cell_type": "markdown",
   "metadata": {},
   "source": [
    "### Transforming timestamp"
   ]
  },
  {
   "cell_type": "markdown",
   "metadata": {},
   "source": [
    "number of rows before filtering the dataset"
   ]
  },
  {
   "cell_type": "code",
   "execution_count": 9,
   "metadata": {},
   "outputs": [
    {
     "data": {
      "text/plain": [
       "260068750"
      ]
     },
     "execution_count": 9,
     "metadata": {},
     "output_type": "execute_result"
    }
   ],
   "source": [
    "df.count()"
   ]
  },
  {
   "cell_type": "code",
   "execution_count": 14,
   "metadata": {},
   "outputs": [],
   "source": [
    "def cal_lenth(s):\n",
    "    return len(s)"
   ]
  },
  {
   "cell_type": "code",
   "execution_count": 6,
   "metadata": {},
   "outputs": [],
   "source": [
    "from pyspark.sql.functions import length"
   ]
  },
  {
   "cell_type": "code",
   "execution_count": 10,
   "metadata": {},
   "outputs": [],
   "source": [
    "df_timestamp=df.where((length(\"localtime\")) > 9)"
   ]
  },
  {
   "cell_type": "code",
   "execution_count": 20,
   "metadata": {},
   "outputs": [
    {
     "data": {
      "text/plain": [
       "260068750"
      ]
     },
     "execution_count": 20,
     "metadata": {},
     "output_type": "execute_result"
    }
   ],
   "source": [
    "df_timestamp.count()"
   ]
  },
  {
   "cell_type": "code",
   "execution_count": 21,
   "metadata": {},
   "outputs": [
    {
     "name": "stdout",
     "output_type": "stream",
     "text": [
      "+-----+-------------+---+---+---------+\n",
      "|Level|ClientMacAddr|lat|lng|localtime|\n",
      "+-----+-------------+---+---+---------+\n",
      "+-----+-------------+---+---+---------+\n",
      "\n"
     ]
    }
   ],
   "source": [
    "df.where((length(\"localtime\")) <= 9).show()"
   ]
  },
  {
   "cell_type": "code",
   "execution_count": 23,
   "metadata": {},
   "outputs": [
    {
     "data": {
      "text/plain": [
       "pyspark.sql.dataframe.DataFrame"
      ]
     },
     "execution_count": 23,
     "metadata": {},
     "output_type": "execute_result"
    }
   ],
   "source": [
    "type(df_timestamp)"
   ]
  },
  {
   "cell_type": "code",
   "execution_count": 25,
   "metadata": {},
   "outputs": [],
   "source": [
    "time_rdd = df_timestamp.rdd"
   ]
  },
  {
   "cell_type": "code",
   "execution_count": 26,
   "metadata": {},
   "outputs": [
    {
     "name": "stdout",
     "output_type": "stream",
     "text": [
      "<class 'pyspark.rdd.RDD'>\n"
     ]
    }
   ],
   "source": [
    "print(type(time_rdd))"
   ]
  },
  {
   "cell_type": "code",
   "execution_count": 30,
   "metadata": {},
   "outputs": [
    {
     "data": {
      "text/plain": [
       "[Row(Level='Level5', ClientMacAddr='38:ff:36:4c:1a:18', lat='1.29086614', lng='103.85172392', localtime='2018-07-31 18:20:29.538 UTC'),\n",
       " Row(Level='Level5', ClientMacAddr='38:ff:36:4c:ad:23', lat='1.29086614', lng='103.85172392', localtime='2018-07-31 13:42:08.382 UTC')]"
      ]
     },
     "execution_count": 30,
     "metadata": {},
     "output_type": "execute_result"
    }
   ],
   "source": [
    "df_timestamp.head(2)"
   ]
  },
  {
   "cell_type": "code",
   "execution_count": 40,
   "metadata": {},
   "outputs": [],
   "source": [
    "df_time=df.select('localtime').rdd.map(lambda x:x[:19]).toDF()"
   ]
  },
  {
   "cell_type": "code",
   "execution_count": 41,
   "metadata": {},
   "outputs": [
    {
     "name": "stdout",
     "output_type": "stream",
     "text": [
      "+--------------------+\n",
      "|                  _1|\n",
      "+--------------------+\n",
      "|2018-07-31 18:20:...|\n",
      "|2018-07-31 13:42:...|\n",
      "+--------------------+\n",
      "only showing top 2 rows\n",
      "\n"
     ]
    }
   ],
   "source": [
    "df_time.show(2)"
   ]
  },
  {
   "cell_type": "code",
   "execution_count": 51,
   "metadata": {},
   "outputs": [],
   "source": [
    "df_date=df_time.select('_1').rdd.map(lambda x:x[:10]).toDF()"
   ]
  },
  {
   "cell_type": "code",
   "execution_count": 52,
   "metadata": {},
   "outputs": [
    {
     "name": "stdout",
     "output_type": "stream",
     "text": [
      "+--------------------+\n",
      "|                  _1|\n",
      "+--------------------+\n",
      "|2018-07-31 18:20:...|\n",
      "|2018-07-31 13:42:...|\n",
      "|2018-07-31 14:58:...|\n",
      "|2018-07-31 17:44:...|\n",
      "|2018-07-31 13:26:...|\n",
      "|2018-07-31 15:35:...|\n",
      "|2018-07-31 17:57:...|\n",
      "|2018-07-31 18:32:...|\n",
      "|2018-07-31 15:26:...|\n",
      "|2018-07-31 16:20:...|\n",
      "|2018-07-31 16:14:...|\n",
      "|2018-07-31 17:23:...|\n",
      "|2018-07-31 17:08:...|\n",
      "|2018-07-31 18:44:...|\n",
      "|2018-07-31 19:10:...|\n",
      "|2018-07-31 19:31:...|\n",
      "|2018-07-31 19:31:...|\n",
      "|2018-07-31 15:35:...|\n",
      "|2018-07-31 15:35:...|\n",
      "|2018-07-31 15:35:...|\n",
      "+--------------------+\n",
      "only showing top 20 rows\n",
      "\n"
     ]
    }
   ],
   "source": [
    "df_date.show()"
   ]
  },
  {
   "cell_type": "code",
   "execution_count": 57,
   "metadata": {},
   "outputs": [],
   "source": [
    "from pyspark.sql.functions import to_utc_timestamp"
   ]
  },
  {
   "cell_type": "code",
   "execution_count": 63,
   "metadata": {},
   "outputs": [],
   "source": [
    "df_with_timestamp = df_timestamp.select(to_utc_timestamp(df_timestamp.localtime, 'UTC').alias('dt'))"
   ]
  },
  {
   "cell_type": "code",
   "execution_count": 64,
   "metadata": {},
   "outputs": [
    {
     "data": {
      "text/plain": [
       "pyspark.sql.dataframe.DataFrame"
      ]
     },
     "execution_count": 64,
     "metadata": {},
     "output_type": "execute_result"
    }
   ],
   "source": [
    "type(df_with_timestamp)"
   ]
  },
  {
   "cell_type": "code",
   "execution_count": 61,
   "metadata": {},
   "outputs": [
    {
     "data": {
      "text/plain": [
       "[Row(dt=None), Row(dt=None), Row(dt=None)]"
      ]
     },
     "execution_count": 61,
     "metadata": {},
     "output_type": "execute_result"
    }
   ],
   "source": [
    "df_with_timestamp.head(3)"
   ]
  },
  {
   "cell_type": "code",
   "execution_count": 65,
   "metadata": {},
   "outputs": [],
   "source": [
    "df_timestamp.registerTempTable(\"table\")"
   ]
  },
  {
   "cell_type": "code",
   "execution_count": null,
   "metadata": {},
   "outputs": [],
   "source": [
    "number "
   ]
  },
  {
   "cell_type": "code",
   "execution_count": 66,
   "metadata": {},
   "outputs": [
    {
     "name": "stdout",
     "output_type": "stream",
     "text": [
      "+--------+\n",
      "|   Level|\n",
      "+--------+\n",
      "|  Level5|\n",
      "| Level 1|\n",
      "|Level B1|\n",
      "+--------+\n",
      "\n"
     ]
    }
   ],
   "source": [
    "sqlContext.sql('select distinct Level from table').show(5)"
   ]
  },
  {
   "cell_type": "code",
   "execution_count": 11,
   "metadata": {},
   "outputs": [
    {
     "data": {
      "text/plain": [
       "[Row(Level='Level5', ClientMacAddr='38:ff:36:4c:1a:18', lat='1.29086614', lng='103.85172392', localtime='2018-07-31 18:20:29.538 UTC'),\n",
       " Row(Level='Level5', ClientMacAddr='38:ff:36:4c:ad:23', lat='1.29086614', lng='103.85172392', localtime='2018-07-31 13:42:08.382 UTC'),\n",
       " Row(Level='Level5', ClientMacAddr='38:ff:36:4c:ad:23', lat='1.29086614', lng='103.85172392', localtime='2018-07-31 14:58:17.652 UTC')]"
      ]
     },
     "execution_count": 11,
     "metadata": {},
     "output_type": "execute_result"
    }
   ],
   "source": [
    "df_timestamp.head(3)"
   ]
  },
  {
   "cell_type": "code",
   "execution_count": 20,
   "metadata": {},
   "outputs": [],
   "source": [
    "df_month = df_timestamp.select('localtime')"
   ]
  },
  {
   "cell_type": "code",
   "execution_count": 21,
   "metadata": {},
   "outputs": [
    {
     "data": {
      "text/plain": [
       "pyspark.sql.dataframe.DataFrame"
      ]
     },
     "execution_count": 21,
     "metadata": {},
     "output_type": "execute_result"
    }
   ],
   "source": [
    "type(df_month)"
   ]
  },
  {
   "cell_type": "code",
   "execution_count": 26,
   "metadata": {},
   "outputs": [
    {
     "data": {
      "text/plain": [
       "[Row(Level='Level5', ClientMacAddr='38:ff:36:4c:1a:18', lat='1.29086614', lng='103.85172392', localtime='2018-07-31 18:20:29.538 UTC'),\n",
       " Row(Level='Level5', ClientMacAddr='38:ff:36:4c:ad:23', lat='1.29086614', lng='103.85172392', localtime='2018-07-31 13:42:08.382 UTC'),\n",
       " Row(Level='Level5', ClientMacAddr='38:ff:36:4c:ad:23', lat='1.29086614', lng='103.85172392', localtime='2018-07-31 14:58:17.652 UTC'),\n",
       " Row(Level='Level5', ClientMacAddr='38:ff:36:4c:ae:53', lat='1.29086614', lng='103.85172392', localtime='2018-07-31 17:44:47.816 UTC'),\n",
       " Row(Level='Level5', ClientMacAddr='38:ff:36:4c:b5:83', lat='1.29086614', lng='103.85172392', localtime='2018-07-31 13:26:17.971 UTC')]"
      ]
     },
     "execution_count": 26,
     "metadata": {},
     "output_type": "execute_result"
    }
   ],
   "source": [
    "df_timestamp.head(5)"
   ]
  },
  {
   "cell_type": "code",
   "execution_count": null,
   "metadata": {},
   "outputs": [],
   "source": []
  }
 ],
 "metadata": {
  "kernelspec": {
   "display_name": "Python 3",
   "language": "python",
   "name": "python3"
  },
  "language_info": {
   "codemirror_mode": {
    "name": "ipython",
    "version": 3
   },
   "file_extension": ".py",
   "mimetype": "text/x-python",
   "name": "python",
   "nbconvert_exporter": "python",
   "pygments_lexer": "ipython3",
   "version": "3.6.4"
  }
 },
 "nbformat": 4,
 "nbformat_minor": 2
}
